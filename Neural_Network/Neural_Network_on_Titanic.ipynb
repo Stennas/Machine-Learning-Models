{
  "nbformat": 4,
  "nbformat_minor": 0,
  "metadata": {
    "colab": {
      "provenance": []
    },
    "kernelspec": {
      "name": "python3",
      "display_name": "Python 3"
    },
    "language_info": {
      "name": "python"
    }
  },
  "cells": [
    {
      "cell_type": "markdown",
      "source": [
        "##Step 1: Define Activation Functions and Loss Function"
      ],
      "metadata": {
        "id": "cFZUTKC_IMzw"
      }
    },
    {
      "cell_type": "code",
      "execution_count": 14,
      "metadata": {
        "id": "ugAo5GHHH18T"
      },
      "outputs": [],
      "source": [
        "import pandas as pd\n",
        "from sklearn.model_selection import train_test_split\n",
        "from sklearn.preprocessing import StandardScaler\n",
        "\n",
        "# Activation function\n",
        "def sigmoid(x):\n",
        "    return 1 / (1 + np.exp(-x))\n",
        "\n",
        "def sigmoid_derivative(x):\n",
        "    return sigmoid(x) * (1 - sigmoid(x))\n",
        "\n",
        "# loss Function\n",
        "def binary_cross_entropy(y_true, y_pred):\n",
        "    eps = 1e-9\n",
        "    return -np.mean(y_true * np.log(y_pred + eps) + (1 - y_true) * np.log(1 - y_pred + eps))\n"
      ]
    },
    {
      "cell_type": "markdown",
      "source": [
        "##Step 2: Load and Prepare the Data"
      ],
      "metadata": {
        "id": "PLytOhRwISoz"
      }
    },
    {
      "cell_type": "code",
      "source": [
        "# Load Titanic dataset\n",
        "data = pd.read_csv(\"https://raw.githubusercontent.com/datasciencedojo/datasets/master/titanic.csv\")\n",
        "\n",
        "# Select features and target\n",
        "features = ['Pclass', 'Age', 'Fare', 'Sex']\n",
        "data = data[features + ['Survived']].dropna()\n",
        "\n",
        "# Convert 'Sex' to numeric\n",
        "data['Sex'] = data['Sex'].map({'male': 0, 'female': 1})\n",
        "\n",
        "# Separate inputs and labels\n",
        "X = data[features].values\n",
        "y = data['Survived'].values.reshape(-1, 1)\n",
        "\n",
        "# Scale features\n",
        "scaler = StandardScaler()\n",
        "X = scaler.fit_transform(X)\n",
        "\n",
        "# Split\n",
        "X_train, X_test, y_train, y_test = train_test_split(X, y, test_size=0.2, random_state=42)\n"
      ],
      "metadata": {
        "id": "Ux5DGeqoITY4"
      },
      "execution_count": 15,
      "outputs": []
    },
    {
      "cell_type": "markdown",
      "source": [
        "##Step 3: Define the Neural Network Structure"
      ],
      "metadata": {
        "id": "ZbpwA96VIXLj"
      }
    },
    {
      "cell_type": "code",
      "source": [
        "import numpy as np\n",
        "\n",
        "input_size = X_train.shape[1]\n",
        "hidden_size = 10\n",
        "output_size = 1\n",
        "\n",
        "# Initialize weights and biases\n",
        "W1 = np.random.randn(input_size, hidden_size)\n",
        "b1 = np.zeros((1, hidden_size))\n",
        "W2 = np.random.randn(hidden_size, output_size)\n",
        "b2 = np.zeros((1, output_size))\n"
      ],
      "metadata": {
        "id": "WdqbFlZeIXv6"
      },
      "execution_count": 16,
      "outputs": []
    },
    {
      "cell_type": "markdown",
      "source": [
        "##Step 4: Train the Neural Network"
      ],
      "metadata": {
        "id": "CbG8FHUNIcQG"
      }
    },
    {
      "cell_type": "code",
      "source": [
        "# Training settings\n",
        "lr = 0.01\n",
        "epochs = 1000\n",
        "\n",
        "# Training loop\n",
        "for epoch in range(epochs):\n",
        "    # Forward pass\n",
        "    Z1 = np.dot(X_train, W1) + b1\n",
        "    A1 = sigmoid(Z1)\n",
        "    Z2 = np.dot(A1, W2) + b2\n",
        "    y_pred = sigmoid(Z2)\n",
        "\n",
        "    # Loss\n",
        "    loss = binary_cross_entropy(y_train, y_pred)\n",
        "\n",
        "    # Backpropagation\n",
        "    dZ2 = y_pred - y_train\n",
        "    dW2 = np.dot(A1.T, dZ2) / len(X_train)\n",
        "    db2 = np.mean(dZ2, axis=0, keepdims=True)\n",
        "\n",
        "    dA1 = np.dot(dZ2, W2.T)\n",
        "    dZ1 = dA1 * sigmoid_derivative(Z1)\n",
        "    dW1 = np.dot(X_train.T, dZ1) / len(X_train)\n",
        "    db1 = np.mean(dZ1, axis=0, keepdims=True)\n",
        "\n",
        "    # Update weights\n",
        "    W1 -= lr * dW1\n",
        "    b1 -= lr * db1\n",
        "    W2 -= lr * dW2\n",
        "    b2 -= lr * db2\n",
        "\n",
        "    if epoch % 100 == 0:\n",
        "        print(f\"Epoch {epoch}, Loss: {loss:.4f}\")\n"
      ],
      "metadata": {
        "colab": {
          "base_uri": "https://localhost:8080/"
        },
        "id": "0DEYJ38yIcwN",
        "outputId": "c35d2649-f19e-45b2-a7e9-d451509cc69b"
      },
      "execution_count": 17,
      "outputs": [
        {
          "output_type": "stream",
          "name": "stdout",
          "text": [
            "Epoch 0, Loss: 1.0729\n",
            "Epoch 100, Loss: 0.9158\n",
            "Epoch 200, Loss: 0.8038\n",
            "Epoch 300, Loss: 0.7243\n",
            "Epoch 400, Loss: 0.6675\n",
            "Epoch 500, Loss: 0.6261\n",
            "Epoch 600, Loss: 0.5951\n",
            "Epoch 700, Loss: 0.5713\n",
            "Epoch 800, Loss: 0.5527\n",
            "Epoch 900, Loss: 0.5377\n"
          ]
        }
      ]
    },
    {
      "cell_type": "markdown",
      "source": [
        "##Step 5: Evaluate on Test Data"
      ],
      "metadata": {
        "id": "JBRESBJ3IhC5"
      }
    },
    {
      "cell_type": "code",
      "source": [
        "# Forward pass on test\n",
        "Z1 = np.dot(X_test, W1) + b1\n",
        "A1 = sigmoid(Z1)\n",
        "Z2 = np.dot(A1, W2) + b2\n",
        "y_pred_test = sigmoid(Z2)\n",
        "\n",
        "# Binarize predictions\n",
        "y_pred_class = (y_pred_test > 0.5).astype(int)\n",
        "\n",
        "# Accuracy\n",
        "accuracy = np.mean(y_pred_class == y_test)\n",
        "print(f\"Test Accuracy: {accuracy * 100:.2f}%\")\n"
      ],
      "metadata": {
        "colab": {
          "base_uri": "https://localhost:8080/"
        },
        "id": "4KLuj3jLIhn0",
        "outputId": "e658ebfe-c430-4b23-f592-de337e9665cb"
      },
      "execution_count": 21,
      "outputs": [
        {
          "output_type": "stream",
          "name": "stdout",
          "text": [
            "Test Accuracy: 76.22%\n"
          ]
        }
      ]
    },
    {
      "cell_type": "code",
      "source": [],
      "metadata": {
        "id": "F98d0V4wInVH"
      },
      "execution_count": null,
      "outputs": []
    }
  ]
}