{
  "cells": [
    {
      "cell_type": "code",
      "execution_count": null,
      "metadata": {
        "id": "nB4KZK5NfDPS"
      },
      "outputs": [],
      "source": [
        "from sklearn.datasets import fetch_california_housing\n",
        "from sklearn.model_selection import train_test_split\n",
        "from sklearn.preprocessing import StandardScaler\n",
        "import numpy as np\n",
        "\n",
        "# Define Activation Functions\n",
        "def sigmoid(Z):\n",
        "    return 1 / (1 + np.exp(-Z))\n",
        "\n",
        "def sigmoid_derivative(Z):\n",
        "    s = sigmoid(Z)\n",
        "    return s * (1 - s)\n",
        "\n",
        "# Loss Function\n",
        "def mse(y_true, y_pred):\n",
        "    return np.mean((y_true - y_pred) ** 2)\n"
      ]
    },
    {
      "cell_type": "code",
      "execution_count": 67,
      "metadata": {
        "id": "hLP12RekYTII"
      },
      "outputs": [],
      "source": [
        "# Load data\n",
        "data = fetch_california_housing()\n",
        "X = data.data\n",
        "y = data.target.reshape(-1, 1)  # reshape to column vector\n",
        "\n",
        "# Normalize features\n",
        "scaler = StandardScaler() # calculates the mean and std for each column in X. And applies the standardization.\n",
        "X = scaler.fit_transform(X)\n",
        "\n",
        "# Train-test split\n",
        "X_train, X_test, y_train, y_test = train_test_split(X, y, test_size=0.2, random_state=42)\n"
      ]
    },
    {
      "cell_type": "code",
      "execution_count": 68,
      "metadata": {
        "id": "WHEPmIE3eK3W"
      },
      "outputs": [],
      "source": [
        "# Neural network structure\n",
        "input_size = X_train.shape[1]\n",
        "hidden_size = 10\n",
        "output_size = 1\n",
        "\n",
        "# Initialize weights and biases\n",
        "np.random.seed(42)\n",
        "W1 = np.random.randn(input_size, hidden_size)\n",
        "b1 = np.zeros((1, hidden_size))\n",
        "W2 = np.random.randn(hidden_size, output_size)\n",
        "b2 = np.zeros((1, output_size))"
      ]
    },
    {
      "cell_type": "code",
      "execution_count": 69,
      "metadata": {
        "colab": {
          "base_uri": "https://localhost:8080/"
        },
        "id": "nJUcQRCmfH_b",
        "outputId": "68bb88b2-cc8a-427e-99ee-b483b5339f7e"
      },
      "outputs": [
        {
          "name": "stdout",
          "output_type": "stream",
          "text": [
            "Epoch 0, Loss: 3.3060\n",
            "Epoch 100, Loss: 0.6772\n",
            "Epoch 200, Loss: 0.6101\n",
            "Epoch 300, Loss: 0.5797\n",
            "Epoch 400, Loss: 0.5610\n",
            "Epoch 500, Loss: 0.5478\n",
            "Epoch 600, Loss: 0.5379\n",
            "Epoch 700, Loss: 0.5301\n",
            "Epoch 800, Loss: 0.5237\n",
            "Epoch 900, Loss: 0.5183\n"
          ]
        }
      ],
      "source": [
        "# Training settings\n",
        "lr = 0.01\n",
        "epochs = 1000\n",
        "\n",
        "# Training loop\n",
        "for epoch in range(epochs):\n",
        "    # Forward pass\n",
        "    Z1 = np.dot(X_train, W1) + b1\n",
        "    A1 = sigmoid(Z1) #relu(Z1)\n",
        "    Z2 = np.dot(A1, W2) + b2\n",
        "    y_pred = Z2\n",
        "\n",
        "    # Loss\n",
        "    loss = mse(y_train, y_pred)\n",
        "\n",
        "    # Backpropagation\n",
        "    dZ2 = y_pred - y_train\n",
        "    dW2 = np.dot(A1.T, dZ2) / len(X_train)\n",
        "    db2 = np.mean(dZ2, axis=0, keepdims=True)\n",
        "\n",
        "    dA1 = np.dot(dZ2, W2.T)\n",
        "    dZ1 = dA1 * sigmoid_derivative(Z1) #relu_derivative(Z1)\n",
        "    dW1 = np.dot(X_train.T, dZ1) / len(X_train)\n",
        "    db1 = np.mean(dZ1, axis=0, keepdims=True)\n",
        "\n",
        "    # Update weights\n",
        "    W1 -= lr * dW1\n",
        "    b1 -= lr * db1\n",
        "    W2 -= lr * dW2\n",
        "    b2 -= lr * db2\n",
        "\n",
        "    if epoch % 100 == 0:\n",
        "        print(f\"Epoch {epoch}, Loss: {loss:.4f}\")\n"
      ]
    },
    {
      "cell_type": "code",
      "execution_count": null,
      "metadata": {
        "colab": {
          "base_uri": "https://localhost:8080/"
        },
        "id": "KFzFJ8MkfMsG",
        "outputId": "a317a826-8b24-4822-b565-4184fd1b3f5a"
      },
      "outputs": [
        {
          "name": "stdout",
          "output_type": "stream",
          "text": [
            "Test MSE: 0.5251\n"
          ]
        }
      ],
      "source": [
        "# Evaluate on test set\n",
        "Z1_test = np.dot(X_test, W1) + b1\n",
        "A1_test = sigmoid(Z1_test) #relu(Z1_test)\n",
        "y_test_pred = np.dot(A1_test, W2) + b2\n",
        "\n",
        "test_loss = mse(y_test, y_test_pred)\n",
        "print(f\"Test MSE: {test_loss:.4f}\")\n"
      ]
    }
  ],
  "metadata": {
    "colab": {
      "provenance": []
    },
    "kernelspec": {
      "display_name": "Python 3",
      "name": "python3"
    },
    "language_info": {
      "name": "python"
    }
  },
  "nbformat": 4,
  "nbformat_minor": 0
}
